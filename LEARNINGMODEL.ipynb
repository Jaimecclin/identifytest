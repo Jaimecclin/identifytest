{
 "cells": [
  {
   "cell_type": "code",
   "execution_count": 30,
   "metadata": {
    "ExecuteTime": {
     "end_time": "2016-06-21T16:55:22.381665",
     "start_time": "2016-06-21T16:55:22.376665"
    },
    "collapsed": false
   },
   "outputs": [],
   "source": [
    "import numpy as np\n",
    "import matplotlib.pyplot as plt\n",
    "import math\n",
    "import random\n",
    "from openpyxl import load_workbook\n",
    "from sklearn import svm"
   ]
  },
  {
   "cell_type": "code",
   "execution_count": 31,
   "metadata": {
    "ExecuteTime": {
     "end_time": "2016-06-21T16:55:22.668682",
     "start_time": "2016-06-21T16:55:22.659681"
    },
    "collapsed": true
   },
   "outputs": [],
   "source": [
    "def read07excel(path):\n",
    "    wb2=load_workbook(path)\n",
    "    ws=wb2.get_sheet_by_name(\"posfeature\")\n",
    "    row=ws.get_highest_row()\n",
    "    col=ws.get_highest_column()\n",
    "    \n",
    "    print(\"列數: \",ws.get_highest_column())\n",
    "    print(\"行數: \",ws.get_highest_row())\n",
    "    lable = []\n",
    "    feature = []  \n",
    "    for i  in range(1,row):\n",
    "        lable.append(ws.rows[i][1].value)\n",
    "        temp = []\n",
    "        for j in range(2,col):\n",
    "            #print(ws.rows[i][j].value,\"\\t\\t\",end=\"\")\n",
    "            temp.append(ws.rows[i][j].value)\n",
    "        feature.append(temp)\n",
    "    return lable,feature"
   ]
  },
  {
   "cell_type": "code",
   "execution_count": 41,
   "metadata": {
    "ExecuteTime": {
     "end_time": "2016-06-21T17:06:59.259267",
     "start_time": "2016-06-21T17:06:59.247267"
    },
    "collapsed": false
   },
   "outputs": [],
   "source": [
    "def creat_testdata(all_label, all_feature):\n",
    "    test_feature = []\n",
    "    test_label = []\n",
    "    for i in range(1,len(all_label)):    \n",
    "        random_num = random.randint(1,100)\n",
    "        if(random_num <= 20):\n",
    "            test_feature.append(all_feature[i])\n",
    "            test_label.append(all_label[i])\n",
    "    return test_label, test_feature"
   ]
  },
  {
   "cell_type": "code",
   "execution_count": 33,
   "metadata": {
    "ExecuteTime": {
     "end_time": "2016-06-21T16:56:46.715489",
     "start_time": "2016-06-21T16:55:28.059990"
    },
    "collapsed": false,
    "scrolled": false
   },
   "outputs": [
    {
     "name": "stdout",
     "output_type": "stream",
     "text": [
      "列數:  62\n",
      "行數:  148\n"
     ]
    },
    {
     "name": "stderr",
     "output_type": "stream",
     "text": [
      "C:\\Users\\ChienChing\\Anaconda3\\lib\\site-packages\\sklearn\\base.py:175: DeprecationWarning: inspect.getargspec() is deprecated, use inspect.signature() instead\n",
      "  args, varargs, kw, default = inspect.getargspec(init)\n"
     ]
    },
    {
     "data": {
      "text/plain": [
       "SVC(C=1.0, cache_size=200, class_weight=None, coef0=0.0, degree=3, gamma=0.0,\n",
       "  kernel='rbf', max_iter=-1, probability=False, random_state=None,\n",
       "  shrinking=True, tol=0.001, verbose=False)"
      ]
     },
     "execution_count": 33,
     "metadata": {},
     "output_type": "execute_result"
    }
   ],
   "source": [
    "path = \"C:\\\\Users\\\\ChienChing\\\\Python 3\\\\trainingdata.xlsx\"\n",
    "label_list, feature_list = read07excel(path)\n",
    "#print(\"label_list\",label_list)\n",
    "#print(\"feature_list\",feature_list)\n",
    "clf = svm.SVC()\n",
    "clf.fit(feature_list, label_list)"
   ]
  },
  {
   "cell_type": "code",
   "execution_count": 42,
   "metadata": {
    "ExecuteTime": {
     "end_time": "2016-06-21T17:07:03.043347",
     "start_time": "2016-06-21T17:07:03.028346"
    },
    "collapsed": false
   },
   "outputs": [
    {
     "name": "stdout",
     "output_type": "stream",
     "text": [
      "Bingo: tugt\n",
      "Bingo: tugt\n",
      "Bingo: tugt\n",
      "Bingo: tugt\n",
      "Bingo: tugt\n",
      "Bingo: tugt\n",
      "Bingo: gait\n",
      "Bingo: gait\n",
      "Bingo: gait\n",
      "Bingo: gait\n",
      "Bingo: gait\n",
      "Bingo: gait\n",
      "Bingo: gait\n",
      "Bingo: gait\n",
      "Bingo: gait\n",
      "Bingo: static\n",
      "Bingo: static\n",
      "Bingo: static\n",
      "Bingo: static\n",
      "Bingo: static\n",
      "Bingo: static\n",
      "Bingo: static\n",
      "Bingo: static\n",
      "Bingo: static\n",
      "Bingo: static\n",
      "Prediction probability: 100.0 %\n"
     ]
    }
   ],
   "source": [
    "testing_l, testing_f = creat_testdata(label_list,feature_list)\n",
    "result = clf.predict(testing_f)\n",
    "count = 0\n",
    "for i in range(0,len(result)):\n",
    "    if(result[i] == testing_l[i]):\n",
    "        print(\"Bingo:\",testing_l[i])\n",
    "        count = count + 1\n",
    "print(\"Prediction probability:\",str(100*count/len(result)),\"%\")"
   ]
  },
  {
   "cell_type": "code",
   "execution_count": null,
   "metadata": {
    "ExecuteTime": {
     "end_time": "2016-06-21T14:18:52.203245",
     "start_time": "2016-06-21T14:18:52.044241"
    },
    "collapsed": false
   },
   "outputs": [],
   "source": []
  },
  {
   "cell_type": "code",
   "execution_count": null,
   "metadata": {
    "collapsed": true
   },
   "outputs": [],
   "source": []
  }
 ],
 "metadata": {
  "kernelspec": {
   "display_name": "Python 3",
   "language": "python",
   "name": "python3"
  },
  "language_info": {
   "codemirror_mode": {
    "name": "ipython",
    "version": 3
   },
   "file_extension": ".py",
   "mimetype": "text/x-python",
   "name": "python",
   "nbconvert_exporter": "python",
   "pygments_lexer": "ipython3",
   "version": "3.5.1"
  }
 },
 "nbformat": 4,
 "nbformat_minor": 0
}
